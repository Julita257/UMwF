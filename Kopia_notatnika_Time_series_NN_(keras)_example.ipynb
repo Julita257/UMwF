{
  "nbformat": 4,
  "nbformat_minor": 0,
  "metadata": {
    "colab": {
      "provenance": [],
      "include_colab_link": true
    },
    "kernelspec": {
      "name": "python3",
      "display_name": "Python 3"
    },
    "language_info": {
      "name": "python"
    }
  },
  "cells": [
    {
      "cell_type": "markdown",
      "metadata": {
        "id": "view-in-github",
        "colab_type": "text"
      },
      "source": [
        "<a href=\"https://colab.research.google.com/github/Julita257/UMwF/blob/main/Kopia_notatnika_Time_series_NN_(keras)_example.ipynb\" target=\"_parent\"><img src=\"https://colab.research.google.com/assets/colab-badge.svg\" alt=\"Open In Colab\"/></a>"
      ]
    },
    {
      "cell_type": "code",
      "execution_count": null,
      "metadata": {
        "id": "jRQPDzyHO814"
      },
      "outputs": [],
      "source": [
        "import numpy as np\n",
        "import pandas as pd\n",
        "import yfinance as yf\n",
        "import datetime as dt\n",
        "import matplotlib.pyplot as plt\n",
        "import math\n",
        "from sklearn.preprocessing import MinMaxScaler\n",
        "from sklearn.metrics import mean_absolute_error"
      ]
    },
    {
      "cell_type": "code",
      "source": [
        "# importing libraries for learning\n",
        "from keras.models import Sequential\n",
        "from keras.layers import LSTM\n",
        "from keras.layers import Dense\n",
        "from keras.layers import SimpleRNN\n",
        "from keras.layers import Dropout\n",
        "from keras.layers import GRU, Bidirectional\n",
        "from keras.optimizers import SGD\n",
        "from sklearn import metrics\n",
        "from sklearn.metrics import mean_squared_error"
      ],
      "metadata": {
        "id": "rXTdUQB9naM-"
      },
      "execution_count": null,
      "outputs": []
    },
    {
      "cell_type": "code",
      "source": [
        "#the start and end date\n",
        "start_date = dt.datetime(2020,4,1)\n",
        "end_date = dt.datetime(2024,4,1)\n",
        "\n",
        "#loading from yahoo finance\n",
        "data = yf.download(\"GOOGL\",start_date, end_date)\n",
        "\n",
        "print(data.head())\n",
        "print(data.tail())\n"
      ],
      "metadata": {
        "colab": {
          "base_uri": "https://localhost:8080/"
        },
        "id": "_UU6QgvAO-mg",
        "outputId": "2334ac1f-617c-40ed-d462-f6e7cde58703"
      },
      "execution_count": null,
      "outputs": [
        {
          "output_type": "stream",
          "name": "stderr",
          "text": [
            "\r[*********************100%%**********************]  1 of 1 completed"
          ]
        },
        {
          "output_type": "stream",
          "name": "stdout",
          "text": [
            "                 Open       High        Low      Close  Adj Close    Volume\n",
            "Date                                                                       \n",
            "2020-04-01  56.200001  56.471001  54.674500  55.105000  55.105000  51970000\n",
            "2020-04-02  55.000000  56.138500  54.656502  55.851501  55.851501  56410000\n",
            "2020-04-03  55.735500  55.939499  53.754002  54.634998  54.634998  51374000\n",
            "2020-04-06  56.650002  59.537498  56.250000  59.159500  59.159500  63320000\n",
            "2020-04-07  60.850498  61.039001  58.862499  59.127998  59.127998  61620000\n",
            "                  Open        High         Low       Close   Adj Close  \\\n",
            "Date                                                                     \n",
            "2024-03-22  149.119995  151.580002  148.979996  150.770004  150.770004   \n",
            "2024-03-25  149.940002  150.380005  147.820007  150.070007  150.070007   \n",
            "2024-03-26  150.220001  152.259995  149.979996  150.669998  150.669998   \n",
            "2024-03-27  151.179993  151.639999  148.899994  150.869995  150.869995   \n",
            "2024-03-28  150.850006  151.429993  150.169998  150.929993  150.929993   \n",
            "\n",
            "              Volume  \n",
            "Date                  \n",
            "2024-03-22  29175700  \n",
            "2024-03-25  19229300  \n",
            "2024-03-26  22149100  \n",
            "2024-03-27  22879200  \n",
            "2024-03-28  24485400  \n"
          ]
        },
        {
          "output_type": "stream",
          "name": "stderr",
          "text": [
            "\n"
          ]
        }
      ]
    },
    {
      "cell_type": "code",
      "source": [
        "# Setting 80 percent data for training\n",
        "training_data = math.ceil(len(data) * .8)\n",
        "\n",
        "#Splitting the dataset\n",
        "train_data = data[:training_data_len].iloc[:,:1]\n",
        "test_data = data[training_data_len:].iloc[:,:1]\n",
        "print(train_data.shape, test_data.shape)"
      ],
      "metadata": {
        "colab": {
          "base_uri": "https://localhost:8080/"
        },
        "id": "MFIzmAI8PF-p",
        "outputId": "a0dbb125-ce0d-4323-df1a-ed3000ef25dc"
      },
      "execution_count": null,
      "outputs": [
        {
          "output_type": "stream",
          "name": "stdout",
          "text": [
            "(804, 1) (201, 1)\n"
          ]
        }
      ]
    },
    {
      "cell_type": "code",
      "source": [
        "# Selecting Open Price values\n",
        "dataset_train = train_data.Open.values\n",
        "dataset_test = test_data.Open.values\n",
        "\n",
        "# Reshaping 1D to 2D array\n",
        "dataset_train = np.reshape(dataset_train, (-1,1))\n",
        "dataset_test = np.reshape(dataset_test, (-1,1))"
      ],
      "metadata": {
        "id": "8rPNWV4ihXQ1"
      },
      "execution_count": null,
      "outputs": []
    },
    {
      "cell_type": "code",
      "source": [
        "scaler = MinMaxScaler(feature_range=(0,1))\n",
        "# scaling dataset\n",
        "scaled_train = scaler.fit_transform(dataset_train)\n",
        "scaled_test = scaler.fit_transform(dataset_test)"
      ],
      "metadata": {
        "id": "wWLG2pSThmS1"
      },
      "execution_count": null,
      "outputs": []
    },
    {
      "cell_type": "code",
      "source": [
        "# The data is converted to Numpy array; one day ahead forecast\n",
        "X_train = np.array(scaled_train[0:803])\n",
        "y_train = np.array(scaled_train[1:804])\n",
        "\n",
        "#Reshaping\n",
        "X_train = np.reshape(X_train, (X_train.shape[0], X_train.shape[1],1))\n",
        "y_train = np.reshape(y_train, (y_train.shape[0],1))\n",
        "print(\"X_train :\",X_train.shape,\"y_train :\",y_train.shape)"
      ],
      "metadata": {
        "colab": {
          "base_uri": "https://localhost:8080/"
        },
        "id": "lOwIDclVh2Sy",
        "outputId": "3287a022-51ef-42d8-fb8b-d2f17d95f777"
      },
      "execution_count": null,
      "outputs": [
        {
          "output_type": "stream",
          "name": "stdout",
          "text": [
            "X_train : (803, 1, 1) y_train : (803, 1)\n"
          ]
        }
      ]
    },
    {
      "cell_type": "markdown",
      "source": [
        "Siec rekurencyjna RNN"
      ],
      "metadata": {
        "id": "LKRidQx0HfzX"
      }
    },
    {
      "cell_type": "code",
      "source": [
        "# initializing the RNN\n",
        "regressor = Sequential()\n",
        "\n",
        "# adding RNN layers and dropout regularization\n",
        "regressor.add(SimpleRNN(units = 50,\n",
        "\t\t\t\t\t\tactivation = \"tanh\",\n",
        "\t\t\t\t\t\treturn_sequences = True,\n",
        "\t\t\t\t\t\tinput_shape = (X_train.shape[1],1)))\n",
        "regressor.add(Dropout(0.2))\n",
        "\n",
        "regressor.add(SimpleRNN(units = 50,\n",
        "\t\t\t\t\t\tactivation = \"tanh\",\n",
        "\t\t\t\t\t\treturn_sequences = True))\n",
        "\n",
        "regressor.add(SimpleRNN(units = 50,\n",
        "\t\t\t\t\t\tactivation = \"tanh\",\n",
        "\t\t\t\t\t\treturn_sequences = True))\n",
        "\n",
        "regressor.add( SimpleRNN(units = 50))\n",
        "\n",
        "# adding the output layer\n",
        "regressor.add(Dense(units = 1,activation='sigmoid'))\n",
        "\n",
        "# compiling RNN\n",
        "regressor.compile(optimizer = 'adam',\n",
        "\t\t\t\tloss = \"mean_squared_error\")\n",
        "\n",
        "# fitting the model\n",
        "regressor.fit(X_train, y_train,\n",
        "              epochs = 20,\n",
        "              batch_size = 2)\n",
        "regressor.summary()\n"
      ],
      "metadata": {
        "colab": {
          "base_uri": "https://localhost:8080/"
        },
        "id": "HrQWmChJjdz0",
        "outputId": "3be6e105-97c1-45e7-bb31-398abd1f154a"
      },
      "execution_count": null,
      "outputs": [
        {
          "output_type": "stream",
          "name": "stdout",
          "text": [
            "Epoch 1/20\n",
            "402/402 [==============================] - 6s 6ms/step - loss: 0.0090\n",
            "Epoch 2/20\n",
            "402/402 [==============================] - 4s 10ms/step - loss: 0.0021\n",
            "Epoch 3/20\n",
            "402/402 [==============================] - 3s 8ms/step - loss: 0.0019\n",
            "Epoch 4/20\n",
            "402/402 [==============================] - 2s 4ms/step - loss: 0.0017\n",
            "Epoch 5/20\n",
            "402/402 [==============================] - 1s 4ms/step - loss: 0.0016\n",
            "Epoch 6/20\n",
            "402/402 [==============================] - 2s 4ms/step - loss: 0.0015\n",
            "Epoch 7/20\n",
            "402/402 [==============================] - 2s 5ms/step - loss: 0.0017\n",
            "Epoch 8/20\n",
            "402/402 [==============================] - 3s 6ms/step - loss: 0.0016\n",
            "Epoch 9/20\n",
            "402/402 [==============================] - 2s 5ms/step - loss: 0.0015\n",
            "Epoch 10/20\n",
            "402/402 [==============================] - 2s 4ms/step - loss: 0.0015\n",
            "Epoch 11/20\n",
            "402/402 [==============================] - 2s 4ms/step - loss: 0.0016\n",
            "Epoch 12/20\n",
            "402/402 [==============================] - 2s 4ms/step - loss: 0.0016\n",
            "Epoch 13/20\n",
            "402/402 [==============================] - 2s 4ms/step - loss: 0.0016\n",
            "Epoch 14/20\n",
            "402/402 [==============================] - 2s 4ms/step - loss: 0.0015\n",
            "Epoch 15/20\n",
            "402/402 [==============================] - 2s 5ms/step - loss: 0.0015\n",
            "Epoch 16/20\n",
            "402/402 [==============================] - 3s 6ms/step - loss: 0.0015\n",
            "Epoch 17/20\n",
            "402/402 [==============================] - 2s 4ms/step - loss: 0.0016\n",
            "Epoch 18/20\n",
            "402/402 [==============================] - 2s 4ms/step - loss: 0.0015\n",
            "Epoch 19/20\n",
            "402/402 [==============================] - 2s 4ms/step - loss: 0.0015\n",
            "Epoch 20/20\n",
            "402/402 [==============================] - 2s 4ms/step - loss: 0.0016\n",
            "Model: \"sequential_2\"\n",
            "_________________________________________________________________\n",
            " Layer (type)                Output Shape              Param #   \n",
            "=================================================================\n",
            " simple_rnn_4 (SimpleRNN)    (None, 1, 50)             2600      \n",
            "                                                                 \n",
            " dropout_3 (Dropout)         (None, 1, 50)             0         \n",
            "                                                                 \n",
            " simple_rnn_5 (SimpleRNN)    (None, 1, 50)             5050      \n",
            "                                                                 \n",
            " simple_rnn_6 (SimpleRNN)    (None, 1, 50)             5050      \n",
            "                                                                 \n",
            " simple_rnn_7 (SimpleRNN)    (None, 50)                5050      \n",
            "                                                                 \n",
            " dense_2 (Dense)             (None, 1)                 51        \n",
            "                                                                 \n",
            "=================================================================\n",
            "Total params: 17801 (69.54 KB)\n",
            "Trainable params: 17801 (69.54 KB)\n",
            "Non-trainable params: 0 (0.00 Byte)\n",
            "_________________________________________________________________\n"
          ]
        }
      ]
    },
    {
      "cell_type": "markdown",
      "source": [
        "Sieć typu LSTM\n"
      ],
      "metadata": {
        "id": "e0O1UG7BHl9h"
      }
    },
    {
      "cell_type": "code",
      "source": [
        "#Initializing the RNN\n",
        "regressorLSTM = Sequential()\n",
        "regressorLSTM.add(LSTM(units = 50,\n",
        "                   return_sequences = True,\n",
        "                   input_shape = (X_train.shape[1],1)))\n",
        "regressorLSTM.add(Dropout(0.2))\n",
        "# Adding second hidden layer\n",
        "regressorLSTM.add(LSTM(units = 50,\n",
        "                   return_sequences = True))\n",
        "regressorLSTM.add(Dropout(0.2))\n",
        "# Adding dense layer to get the final output. The input of n-1 layer, will be the output for n layer.\n",
        "regressorLSTM.add(Dense(units = 1))\n",
        "\n",
        "regressorLSTM.compile(optimizer = 'adam',\n",
        "\t\t\t\tloss = \"mean_squared_error\")\n",
        "\n",
        "# fitting the model\n",
        "regressorLSTM.fit(X_train, y_train,\n",
        "              epochs = 20,\n",
        "              batch_size = 2)\n",
        "regressorLSTM.summary()"
      ],
      "metadata": {
        "colab": {
          "base_uri": "https://localhost:8080/"
        },
        "id": "lJ1FFYmenNml",
        "outputId": "229c5c9f-ab21-4d0d-c359-d57890c26587"
      },
      "execution_count": null,
      "outputs": [
        {
          "output_type": "stream",
          "name": "stdout",
          "text": [
            "Epoch 1/20\n",
            "402/402 [==============================] - 7s 6ms/step - loss: 0.0445\n",
            "Epoch 2/20\n",
            "402/402 [==============================] - 2s 5ms/step - loss: 0.0048\n",
            "Epoch 3/20\n",
            "402/402 [==============================] - 2s 5ms/step - loss: 0.0040\n",
            "Epoch 4/20\n",
            "402/402 [==============================] - 2s 5ms/step - loss: 0.0037\n",
            "Epoch 5/20\n",
            "402/402 [==============================] - 2s 4ms/step - loss: 0.0035\n",
            "Epoch 6/20\n",
            "402/402 [==============================] - 2s 4ms/step - loss: 0.0029\n",
            "Epoch 7/20\n",
            "402/402 [==============================] - 2s 6ms/step - loss: 0.0028\n",
            "Epoch 8/20\n",
            "402/402 [==============================] - 2s 5ms/step - loss: 0.0024\n",
            "Epoch 9/20\n",
            "402/402 [==============================] - 2s 4ms/step - loss: 0.0022\n",
            "Epoch 10/20\n",
            "402/402 [==============================] - 2s 5ms/step - loss: 0.0021\n",
            "Epoch 11/20\n",
            "402/402 [==============================] - 2s 4ms/step - loss: 0.0022\n",
            "Epoch 12/20\n",
            "402/402 [==============================] - 2s 4ms/step - loss: 0.0016\n",
            "Epoch 13/20\n",
            "402/402 [==============================] - 2s 4ms/step - loss: 0.0019\n",
            "Epoch 14/20\n",
            "402/402 [==============================] - 2s 6ms/step - loss: 0.0020\n",
            "Epoch 15/20\n",
            "402/402 [==============================] - 2s 5ms/step - loss: 0.0017\n",
            "Epoch 16/20\n",
            "402/402 [==============================] - 2s 4ms/step - loss: 0.0017\n",
            "Epoch 17/20\n",
            "402/402 [==============================] - 2s 4ms/step - loss: 0.0016\n",
            "Epoch 18/20\n",
            "402/402 [==============================] - 2s 4ms/step - loss: 0.0016\n",
            "Epoch 19/20\n",
            "402/402 [==============================] - 2s 4ms/step - loss: 0.0016\n",
            "Epoch 20/20\n",
            "402/402 [==============================] - 2s 5ms/step - loss: 0.0016\n",
            "Model: \"sequential_3\"\n",
            "_________________________________________________________________\n",
            " Layer (type)                Output Shape              Param #   \n",
            "=================================================================\n",
            " lstm_2 (LSTM)               (None, 1, 50)             10400     \n",
            "                                                                 \n",
            " dropout_4 (Dropout)         (None, 1, 50)             0         \n",
            "                                                                 \n",
            " lstm_3 (LSTM)               (None, 1, 50)             20200     \n",
            "                                                                 \n",
            " dropout_5 (Dropout)         (None, 1, 50)             0         \n",
            "                                                                 \n",
            " dense_3 (Dense)             (None, 1, 1)              51        \n",
            "                                                                 \n",
            "=================================================================\n",
            "Total params: 30651 (119.73 KB)\n",
            "Trainable params: 30651 (119.73 KB)\n",
            "Non-trainable params: 0 (0.00 Byte)\n",
            "_________________________________________________________________\n"
          ]
        }
      ]
    },
    {
      "cell_type": "markdown",
      "source": [
        "Porównanie modeli"
      ],
      "metadata": {
        "id": "p6jZpOPCj97O"
      }
    },
    {
      "cell_type": "code",
      "source": [
        "# The data is converted to Numpy array; one day ahead forecast\n",
        "X_test = np.array(scaled_test[0:200])\n",
        "y_test = np.array(scaled_test[1:201])\n",
        "\n",
        "#Reshaping\n",
        "X_test = np.reshape(X_test, (X_test.shape[0], X_test.shape[1],1))\n",
        "y_test = np.reshape(y_test, (y_test.shape[0],1))\n",
        "print(\"X_test :\",X_test.shape,\"y_test :\",y_test.shape)\n",
        "\n",
        "y_RNN = regressor.predict(X_test)\n",
        "y_LSTM = regressorLSTM.predict(X_test)\n",
        "y_LSTM = np.reshape(y_LSTM, (y_LSTM.shape[0],1))\n",
        "\n",
        "y_RNN_O = scaler.inverse_transform(y_RNN)\n",
        "y_LSTM_O = scaler.inverse_transform(y_LSTM)\n",
        "\n",
        "print(mean_absolute_error(scaler.inverse_transform(y_test), y_RNN_O))\n",
        "print(mean_absolute_error(scaler.inverse_transform(y_test), y_LSTM_O))"
      ],
      "metadata": {
        "colab": {
          "base_uri": "https://localhost:8080/"
        },
        "id": "a4djBFjrkAcQ",
        "outputId": "9fba3c67-d972-4ac5-bf78-999fcfa4696e"
      },
      "execution_count": null,
      "outputs": [
        {
          "output_type": "stream",
          "name": "stdout",
          "text": [
            "X_test : (200, 1, 1) y_test : (200, 1)\n",
            "7/7 [==============================] - 0s 3ms/step\n",
            "7/7 [==============================] - 0s 3ms/step\n",
            "1.8477799606323242\n",
            "1.6755125427246094\n"
          ]
        }
      ]
    },
    {
      "cell_type": "markdown",
      "source": [
        "TODO:\n",
        "1. dodaj sieć typu GRU oraz model addytywny, porównaj wyniki\n",
        "2. przedstaw wyniki na wykresach szeregów czasowych\n",
        "3. wykonaj hiperparametryzacje wybranego modelu"
      ],
      "metadata": {
        "id": "2kFXTMgJlaM5"
      }
    }
  ]
}